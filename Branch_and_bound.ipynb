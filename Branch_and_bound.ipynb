{
  "nbformat": 4,
  "nbformat_minor": 0,
  "metadata": {
    "colab": {
      "provenance": []
    },
    "kernelspec": {
      "name": "python3",
      "display_name": "Python 3"
    },
    "language_info": {
      "name": "python"
    }
  },
  "cells": [
    {
      "cell_type": "markdown",
      "source": [
        "# Implementação do Branch-and-bound"
      ],
      "metadata": {
        "id": "1hAjQ4iS_Ro6"
      }
    },
    {
      "cell_type": "markdown",
      "source": [
        "###Objetivo:\n",
        "Resolver problemas de Programação Inteira, maximizando ou minimizando a função objetivo sujeita a restrições específicas. Para isso, o algoritmo de Branch-and-bound é utilizado para explorar de forma eficiente o espaço de solução, evitando uma busca exaustiva. Ao utilizar técnicas de otimização, como podas e estratégias de seleção de nós, o algoritmo torna-se mais eficiente na busca pela solução ótima."
      ],
      "metadata": {
        "id": "WBxDvp_f_jXR"
      }
    },
    {
      "cell_type": "markdown",
      "source": [
        "###Etapas de resolução:"
      ],
      "metadata": {
        "id": "pGr4ni3TDKZe"
      }
    },
    {
      "cell_type": "markdown",
      "source": [
        "* Inicialização: Cria nó raiz contendo solução vazia e o limite\n",
        "superior igual a menos infinito;\n",
        "\n",
        "* Seleção de Nó: Escolher do nó para expandir da lista de nós abertos, utilizando o processo de busca em largura;\n",
        "\n",
        "* Expansão do Nó: Se a solução do nó selecionado não for uma solução inteira, o nó será ramificado em dois nós filhos, adicionando restrições que fixem uma variável para 0 em um nó filho e para 1 no outro;\n",
        "\n",
        "* Cálculo do Limite Superior: Calcular o limite superior para cada nó filho usando um solver para resolver o subproblema relaxado(com variáveis que podem ser contínuas, não apenas binárias);\n",
        "\n",
        "* Atualização da Melhor Solução: Se o limite superior de um nó filho for melhor que a melhor solução atual, atualiza a melhor solução.\n",
        "\n",
        "* Podas: Podar subárvores que não têm potencial para produzir uma solução melhor do que a melhor solução encontrada até o momento. Isso pode incluir poda por **inviabilidade**(se um nó filho é inviável) e poda por **otimalidade**(se o limite superior do nó filho é pior do que o melhor valor atual);\n",
        "\n",
        "* Fim de Exploração: O algoritmo termina quando todos os nós tiverem sido explorados ou quando não houver mais nós candidatos a serem explorados que possam melhorar a melhor solução atual."
      ],
      "metadata": {
        "id": "GyZH5UUCDevq"
      }
    },
    {
      "cell_type": "code",
      "source": [
        "!pip install mip"
      ],
      "metadata": {
        "colab": {
          "base_uri": "https://localhost:8080/",
          "height": 339
        },
        "id": "ndTzoskxLTJT",
        "outputId": "d02368c3-4e18-455e-d5cf-0b3a50fb205e"
      },
      "execution_count": 3,
      "outputs": [
        {
          "output_type": "stream",
          "name": "stdout",
          "text": [
            "Collecting mip\n",
            "  Downloading mip-1.15.0-py3-none-any.whl (15.3 MB)\n",
            "\u001b[2K     \u001b[90m━━━━━━━━━━━━━━━━━━━━━━━━━━━━━━━━━━━━━━━━\u001b[0m \u001b[32m15.3/15.3 MB\u001b[0m \u001b[31m36.2 MB/s\u001b[0m eta \u001b[36m0:00:00\u001b[0m\n",
            "\u001b[?25hCollecting cffi==1.15.* (from mip)\n",
            "  Downloading cffi-1.15.1-cp310-cp310-manylinux_2_17_x86_64.manylinux2014_x86_64.whl (441 kB)\n",
            "\u001b[2K     \u001b[90m━━━━━━━━━━━━━━━━━━━━━━━━━━━━━━━━━━━━━━━━\u001b[0m \u001b[32m441.8/441.8 kB\u001b[0m \u001b[31m27.5 MB/s\u001b[0m eta \u001b[36m0:00:00\u001b[0m\n",
            "\u001b[?25hRequirement already satisfied: pycparser in /usr/local/lib/python3.10/dist-packages (from cffi==1.15.*->mip) (2.22)\n",
            "Installing collected packages: cffi, mip\n",
            "  Attempting uninstall: cffi\n",
            "    Found existing installation: cffi 1.16.0\n",
            "    Uninstalling cffi-1.16.0:\n",
            "      Successfully uninstalled cffi-1.16.0\n",
            "Successfully installed cffi-1.15.1 mip-1.15.0\n"
          ]
        },
        {
          "output_type": "display_data",
          "data": {
            "application/vnd.colab-display-data+json": {
              "pip_warning": {
                "packages": [
                  "cffi"
                ]
              },
              "id": "0c3dfb7f8be24b58bd0d50160f289c53"
            }
          },
          "metadata": {}
        }
      ]
    },
    {
      "cell_type": "code",
      "source": [
        "from google.colab import drive\n",
        "drive.mount('/content/drive')"
      ],
      "metadata": {
        "colab": {
          "base_uri": "https://localhost:8080/"
        },
        "id": "CPCjV5g6LnIX",
        "outputId": "350eaec3-a69e-4c86-c705-250f0313c19e"
      },
      "execution_count": 1,
      "outputs": [
        {
          "output_type": "stream",
          "name": "stdout",
          "text": [
            "Drive already mounted at /content/drive; to attempt to forcibly remount, call drive.mount(\"/content/drive\", force_remount=True).\n"
          ]
        }
      ]
    },
    {
      "cell_type": "code",
      "source": [
        "from mip import *\n",
        "import numpy as np"
      ],
      "metadata": {
        "id": "hNsnPDuwE_ak"
      },
      "execution_count": 19,
      "outputs": []
    },
    {
      "cell_type": "code",
      "source": [
        "def load_data(filename):\n",
        "    with open(filename, 'r') as file:\n",
        "        # Primeira linha contém num variáveis e num restrições\n",
        "        num_vars, num_constraints = map(int, file.readline().split())\n",
        "\n",
        "        # coeficientes da func objetivo\n",
        "        objective_coeffs = list(map(int, file.readline().split()))\n",
        "\n",
        "        # coeficientes das restrições e valores limite\n",
        "        constraints_coeffs = [list(map(int, line.split())) for line in file]\n",
        "\n",
        "    return num_vars, num_constraints, objective_coeffs, constraints_coeffs\n",
        ""
      ],
      "metadata": {
        "id": "q9I-AeINKUL_"
      },
      "execution_count": 20,
      "outputs": []
    },
    {
      "cell_type": "code",
      "source": [
        "def create_model(num_vars, num_constraints, objective_coefficients, constraint_coefficients):\n",
        "    model = Model(sense=MAXIMIZE) # inicialização do modelo\n",
        "\n",
        "    variables = [model.add_var(var_type=\"CONTINUOUS\", lb=0, ub=1, name=\"x_\" + str(i)) for i in range(num_vars)]\n",
        "    # adicionando variáveis do tipo contínuas(para o propósito do algorítmo passar pelas soluções até encontrar a sol com vars inteiras)\n",
        "\n",
        "    model.objective = xsum(objective_coefficients[i]*variables[i] for i in range(num_vars)) # func objetivo\n",
        "\n",
        "    # adiciona restrições do arquivo ao modelo\n",
        "    for i in range(num_constraints):\n",
        "        model += xsum(constraint_coefficients[i][j]*variables[j] for j in range(num_vars)) <= constraint_coefficients[i][-1]\n",
        "\n",
        "    return model\n",
        "\n",
        "def solve_model(model): # resolvedor\n",
        "    model.optimize()\n",
        "    solution = {}\n",
        "    solution[\"objective_value\"] = model.objective_value\n",
        "    solution[\"variables\"] = model.vars\n",
        "\n",
        "    return solution\n",
        "\n",
        "# pega o item mais próximo de \"value\" em um array\n",
        "def find_nearest(array, value):\n",
        "    array = np.asarray(array) # apenas para usar a função argmin\n",
        "    idx = (np.abs(array - value)).argmin() # calcula a dist de cada item do array para \"value\" e pega o idx do item de menor dist\n",
        "    return idx\n",
        "\n",
        "# cria um ponto de ramificação do problema em dois subproblemas(branching)\n",
        "def split_model(model, variable_values):\n",
        "    var_to_branch = variable_values[find_nearest([var.x for var in variable_values], 0.5)]\n",
        "    # escolha da variável a ser fixada na ramificação(a ideia é escolher a variável mais próxima de 0.5, porque ela estaria\n",
        "    #\"indecisa\" entre 0 e 1)\n",
        "\n",
        "    model_0 = model.copy()\n",
        "    model_0 += var_to_branch == 0 # a var_to_branch é fixada em 0 usando uma restrição adicional\n",
        "\n",
        "    model_1 = model.copy()\n",
        "    model_1 += var_to_branch == 1 # a var_to_branch é fixada em 1 usando uma restrição adicional\n",
        "\n",
        "    return (model_0, model_1)"
      ],
      "metadata": {
        "id": "wZmh5ApFFF7w"
      },
      "execution_count": 21,
      "outputs": []
    },
    {
      "cell_type": "code",
      "source": [
        "\n",
        "# func que resolve o modelo a cada passo(branch) e decide se a sol é inviável(retorna infeasibility),\n",
        "# se é inteira(retorna integrality), se é a melhor solução encontrada até o momento(retorna limit),\n",
        "# checando o lim primal global com o calculado na execução.\n",
        "def check_bounds(model):\n",
        "    global primal_bound\n",
        "    solution = solve_model(model)\n",
        "\n",
        "    if solution[\"objective_value\"] is None:\n",
        "        return 'infeasibility'\n",
        "\n",
        "    count_integer_vars = sum(1 for var in solution[\"variables\"] if var.x.is_integer())\n",
        "    if count_integer_vars == len(solution[\"variables\"]):\n",
        "        return 'integrality'\n",
        "\n",
        "    if solution[\"objective_value\"] <= primal_bound:\n",
        "        return 'limit' # sol limitante\n",
        "\n",
        "    return 'fractional' # pode-se fazer branching\n",
        "\n",
        "\n",
        "\n",
        "def branch_and_bound(model):\n",
        "    global optimal_solution\n",
        "    global primal_bound\n",
        "    node_queue = [model]\n",
        "\n",
        "    while node_queue != []:\n",
        "        model_solution = solve_model(node_queue[0]) # resolve o modelo atual, caso sol inviaável, retorna infeasibility\n",
        "        bound_check = check_bounds(node_queue[0])\n",
        "        if bound_check == 'infeasibility' or bound_check == 'limit':\n",
        "            node_queue.pop(0)\n",
        "        elif bound_check == 'integrality':\n",
        "            if model_solution[\"objective_value\"] > primal_bound: # caso bound maior que o atual, atualiza limite\n",
        "                optimal_solution = node_queue[0] # atualiza a melhor sol encontrada\n",
        "                primal_bound = model_solution[\"objective_value\"] # atualiza o limite primal global\n",
        "            node_queue.pop(0)\n",
        "        elif bound_check == 'fractional': # caso solução fracionária, faz o branching\n",
        "            branch_models = split_model(node_queue[0], model_solution[\"variables\"])\n",
        "            node_queue.append(branch_models[0])\n",
        "            node_queue.append(branch_models[1])\n",
        "            node_queue.pop(0)\n"
      ],
      "metadata": {
        "id": "1VC_Kswa7zs6"
      },
      "execution_count": 22,
      "outputs": []
    },
    {
      "cell_type": "code",
      "source": [
        "\n",
        "for i in range(1, 5):\n",
        "\n",
        "  primal_bound = 0\n",
        "  optimal_solution = None\n",
        "  # num_vars = 0\n",
        "  # num_constraints = 0\n",
        "  # objective_coefficients = []\n",
        "  # constraint_coefficients = []\n",
        "\n",
        "  num_vars, num_constraints, objective_coefficients, constraint_coefficients = load_data(f\"/content/drive/MyDrive/Universidade/projeto_po_testes/teste{i}.txt\")\n",
        "\n",
        "  model_instance = create_model(num_vars, num_constraints, objective_coefficients, constraint_coefficients)\n",
        "\n",
        "  branch_and_bound(model_instance)\n",
        "  solved_model = solve_model(optimal_solution)\n",
        "\n",
        "\n",
        "  print(f'Teste')\n",
        "  print(\"Optimal Solution:\")\n",
        "\n",
        "  for var in solved_model[\"variables\"]:\n",
        "      print(var.name, ' = ', var.x)\n",
        "\n",
        "  print(\"Objective Value:\")\n",
        "  print('Z = ', solved_model[\"objective_value\"])\n",
        "  print('-------------------------------------------------------------')\n",
        "\n"
      ],
      "metadata": {
        "colab": {
          "base_uri": "https://localhost:8080/"
        },
        "id": "O3QNO07JFNoZ",
        "outputId": "75cc8f07-e9b1-4452-deec-870250dfc65b"
      },
      "execution_count": 24,
      "outputs": [
        {
          "output_type": "stream",
          "name": "stdout",
          "text": [
            "Teste\n",
            "Optimal Solution:\n",
            "x_0  =  0.0\n",
            "x_1  =  0.0\n",
            "x_2  =  0.0\n",
            "x_3  =  0.0\n",
            "x_4  =  1.0\n",
            "x_5  =  1.0\n",
            "x_6  =  0.0\n",
            "Objective Value:\n",
            "Z =  20.0\n",
            "-------------------------------------------------------------\n",
            "Teste\n",
            "Optimal Solution:\n",
            "x_0  =  0.0\n",
            "x_1  =  0.0\n",
            "x_2  =  0.0\n",
            "x_3  =  0.0\n",
            "x_4  =  0.0\n",
            "x_5  =  1.0\n",
            "x_6  =  1.0\n",
            "x_7  =  0.0\n",
            "x_8  =  1.0\n",
            "Objective Value:\n",
            "Z =  24.0\n",
            "-------------------------------------------------------------\n",
            "Teste\n",
            "Optimal Solution:\n",
            "x_0  =  0.0\n",
            "x_1  =  0.0\n",
            "x_2  =  1.0\n",
            "x_3  =  0.0\n",
            "x_4  =  0.0\n",
            "x_5  =  0.0\n",
            "x_6  =  1.0\n",
            "x_7  =  0.0\n",
            "x_8  =  0.0\n",
            "Objective Value:\n",
            "Z =  19.0\n",
            "-------------------------------------------------------------\n",
            "Teste\n",
            "Optimal Solution:\n",
            "x_0  =  0.0\n",
            "x_1  =  0.0\n",
            "x_2  =  1.0\n",
            "x_3  =  0.0\n",
            "x_4  =  0.0\n",
            "x_5  =  0.0\n",
            "x_6  =  0.0\n",
            "x_7  =  0.0\n",
            "x_8  =  0.0\n",
            "Objective Value:\n",
            "Z =  10.0\n",
            "-------------------------------------------------------------\n"
          ]
        }
      ]
    }
  ]
}